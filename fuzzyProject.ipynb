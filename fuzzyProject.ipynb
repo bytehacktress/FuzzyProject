{
 "cells": [
  {
   "cell_type": "code",
   "execution_count": 97,
   "id": "34475192-fb1b-409a-a6f2-e997a871402f",
   "metadata": {},
   "outputs": [],
   "source": [
    "# Import necessary libraries\n",
    "import numpy as np\n",
    "import skfuzzy as fuzz\n",
    "from skfuzzy import control as ctrl"
   ]
  },
  {
   "cell_type": "code",
   "execution_count": 98,
   "id": "199aa71d-dc71-4be1-8b0b-279b6c7e2cb2",
   "metadata": {},
   "outputs": [],
   "source": [
    "# Define the linguistic variables\n",
    "ldp = \"low density lipid\"\n",
    "hdp = \"high density lipid\"\n",
    "tri = \"triglycerides\"\n",
    "sys = \"systolic\"\n",
    "dia = \"diastolic\"\n",
    "result = \"result\"\n",
    "ideal = \"ideal\"\n",
    "results = 0"
   ]
  },
  {
   "cell_type": "code",
   "execution_count": 101,
   "id": "81d80231-90f0-4bed-a94d-0a8237e3b523",
   "metadata": {},
   "outputs": [],
   "source": [
    "# Define Antecedent and Consequent objects for fuzzy logic\n",
    "ldp = ctrl.Antecedent(np.arange(0, 190, 1), ldp)\n",
    "hdp = ctrl.Antecedent(np.arange(0, 60, 1), hdp)\n",
    "tri = ctrl.Antecedent(np.arange(0, 500, 1), tri)\n",
    "sys = ctrl.Antecedent(np.arange(0, 140, 1), sys)\n",
    "dia = ctrl.Antecedent(np.arange(0, 90, 1), dia)\n",
    "result = ctrl.Consequent(np.arange(0, 100, 1), result)\n",
    "result.automf(3)\n",
    "hdp.automf(3)\n",
    "sys.automf(3)\n",
    "dia.automf(3)\n",
    "ldp.automf(5)"
   ]
  },
  {
   "cell_type": "code",
   "execution_count": 103,
   "id": "916aa7f7-b4b9-43e7-b961-9bd91977a4a3",
   "metadata": {},
   "outputs": [],
   "source": [
    "# Define custom membership functions for 'triglycerides'\n",
    "tri['poor'] = fuzz.trimf(tri.universe, [0, 0, 150])\n",
    "tri['average'] = fuzz.trimf(tri.universe, [0, 150, 499])\n",
    "tri['good'] = fuzz.trimf(tri.universe, [150, 500, 500])\n",
    "\n",
    "# Define fuzzy sets for 'systolic'\n",
    "sys['poor'] = fuzz.trimf(sys.universe, [0, 0, 120])\n",
    "sys['average'] = fuzz.trimf(sys.universe, [120, 189, 189])\n",
    "sys['good'] = fuzz.trimf(sys.universe, [140, 200, 200])\n",
    "\n",
    "# Define fuzzy sets for 'diastolic'\n",
    "dia['poor'] = fuzz.trimf(dia.universe, [0, 0, 80])\n",
    "dia['average'] = fuzz.trimf(dia.universe, [80, 89, 89])\n",
    "dia['good'] = fuzz.trimf(dia.universe, [90, 100, 100])"
   ]
  },
  {
   "cell_type": "code",
   "execution_count": 104,
   "id": "da46ce10-5145-4175-b76c-1c7cabec41da",
   "metadata": {},
   "outputs": [
    {
     "name": "stdout",
     "output_type": "stream",
     "text": [
      "Available membership function names for 'low density lipid': odict_keys(['poor', 'mediocre', 'average', 'decent', 'good'])\n",
      "Available membership function names for 'high density lipid': odict_keys(['poor', 'average', 'good'])\n",
      "Available membership function names for 'triglycerides': odict_keys(['poor', 'average', 'good'])\n",
      "Available membership function names for 'systolic': odict_keys(['poor', 'average', 'good'])\n",
      "Available membership function names for 'diastolic': odict_keys(['poor', 'average', 'good'])\n"
     ]
    }
   ],
   "source": [
    "# Print available membership function names for each Antecedent\n",
    "print(\"Available membership function names for 'low density lipid':\", ldp.terms.keys())\n",
    "print(\"Available membership function names for 'high density lipid':\", hdp.terms.keys())\n",
    "print(\"Available membership function names for 'triglycerides':\", tri.terms.keys())\n",
    "print(\"Available membership function names for 'systolic':\", sys.terms.keys())\n",
    "print(\"Available membership function names for 'diastolic':\", dia.terms.keys())\n"
   ]
  },
  {
   "cell_type": "code",
   "execution_count": 105,
   "id": "f08a56d3-f8bd-4f6b-ae5d-61ac3efa8440",
   "metadata": {},
   "outputs": [],
   "source": [
    "# Define fuzzy rules\n",
    "rule1 = ctrl.Rule(ldp[\"poor\"] & hdp[\"good\"] & tri[\"poor\"] & sys[\"poor\"] & dia[\"poor\"], result[\"poor\"])\n",
    "rule2 = ctrl.Rule(ldp[\"mediocre\"] & hdp[\"good\"] & tri[\"poor\"] & sys[\"poor\"] & dia[\"poor\"], result[\"poor\"])\n",
    "rule3 = ctrl.Rule(ldp[\"average\"] & hdp[\"good\"] & tri[\"poor\"] & sys[\"poor\"] & dia[\"poor\"], result[\"average\"])\n",
    "rule4 = ctrl.Rule(ldp[\"decent\"] & hdp[\"good\"] & tri[\"poor\"] & sys[\"poor\"] & dia[\"poor\"], result[\"average\"])\n",
    "rule5 = ctrl.Rule(ldp[\"good\"] & hdp[\"good\"] & tri[\"poor\"] & sys[\"poor\"] & dia[\"poor\"], result[\"average\"])\n",
    "rule6 = ctrl.Rule(ldp[\"poor\"] & hdp[\"average\"] & tri[\"poor\"] & sys[\"poor\"] & dia[\"poor\"], result[\"average\"])\n",
    "rule7 = ctrl.Rule(ldp[\"poor\"] & hdp[\"poor\"] & tri[\"poor\"] & sys[\"poor\"] & dia[\"poor\"], result[\"average\"])\n",
    "rule8 = ctrl.Rule(ldp[\"poor\"] & hdp[\"poor\"] & tri[\"poor\"] & sys[\"poor\"] & dia[\"poor\"], result[\"average\"])\n",
    "rule9 = ctrl.Rule(ldp[\"poor\"] & hdp[\"poor\"] & tri[\"good\"] & sys[\"poor\"] & dia[\"poor\"], result[\"good\"])\n",
    "rule10 = ctrl.Rule(ldp[\"poor\"] & hdp[\"poor\"] & tri[\"good\"] & sys[\"average\"] & dia[\"poor\"], result[\"good\"])\n",
    "rule11 = ctrl.Rule(ldp[\"poor\"] & hdp[\"poor\"] & tri[\"good\"] & sys[\"good\"] & dia[\"poor\"], result[\"good\"])\n",
    "rule12 = ctrl.Rule(ldp[\"poor\"] & hdp[\"poor\"] & tri[\"good\"] & sys[\"good\"] & dia[\"good\"], result[\"good\"])\n",
    "rule13 = ctrl.Rule(ldp[\"mediocre\"] & hdp[\"good\"] & tri[\"poor\"] & sys[\"good\"] & dia[\"poor\"], result[\"poor\"])\n",
    "rule14 = ctrl.Rule(ldp[\"mediocre\"] & hdp[\"average\"] & tri[\"poor\"] & sys[\"poor\"] & dia[\"poor\"], result[\"poor\"])\n",
    "rule15 = ctrl.Rule(ldp[\"poor\"] & hdp[\"average\"] & tri[\"average\"] & sys[\"poor\"] & dia[\"poor\"], result[\"poor\"])\n",
    "rule16 = ctrl.Rule(ldp[\"poor\"] & hdp[\"good\"] & tri[\"average\"] & sys[\"poor\"] & dia[\"poor\"], result[\"poor\"])\n",
    "rule17 = ctrl.Rule(ldp[\"mediocre\"] & hdp[\"average\"] & tri[\"average\"] & sys[\"poor\"] & dia[\"poor\"], result[\"average\"])\n",
    "rule18 = ctrl.Rule(ldp[\"poor\"] & hdp[\"average\"] & tri[\"average\"] & sys[\"poor\"] & dia[\"poor\"], result[\"poor\"])\n",
    "rule19 = ctrl.Rule(ldp[\"good\"] & hdp[\"good\"] & tri[\"good\"] & sys[\"poor\"] & dia[\"poor\"], result[\"good\"])\n",
    "rule20 = ctrl.Rule(ldp[\"good\"] & hdp[\"good\"] & tri[\"good\"] & sys[\"good\"] & dia[\"good\"], result[\"good\"])\n"
   ]
  },
  {
   "cell_type": "code",
   "execution_count": 106,
   "id": "5d2cf285-c2de-456c-9ac4-43914a49137d",
   "metadata": {},
   "outputs": [],
   "source": [
    "# Create a list of fuzzy rules\n",
    "rule_list = [rule1, rule2, rule3, rule4, rule5, rule6, rule7, rule8, rule9, rule10,\n",
    "             rule11, rule12, rule13, rule14, rule15, rule16, rule17, rule18, rule19, rule20]"
   ]
  },
  {
   "cell_type": "code",
   "execution_count": 107,
   "id": "a6a4d3f4-6b63-4bd0-b455-989528924ff6",
   "metadata": {},
   "outputs": [],
   "source": [
    "# Create a fuzzy control system with the list of rules\n",
    "result_ctrl = ctrl.ControlSystem(rule_list)"
   ]
  },
  {
   "cell_type": "code",
   "execution_count": 108,
   "id": "95d2ddee-df45-4fd5-a4f4-d1a09d227d59",
   "metadata": {},
   "outputs": [],
   "source": [
    "# Create a control system simulation with the fuzzy control system\n",
    "result_analysis = ctrl.ControlSystemSimulation(result_ctrl)"
   ]
  },
  {
   "cell_type": "code",
   "execution_count": 169,
   "id": "131e1d6d-2109-4435-a599-40226ddba735",
   "metadata": {},
   "outputs": [],
   "source": [
    "# Input values for the fuzzy logic system\n",
    "result_analysis.input[ldp.label] = 10\n",
    "result_analysis.input[hdp.label] = 50\n",
    "result_analysis.input[tri.label] = 50\n",
    "result_analysis.input[sys.label] = 110\n",
    "result_analysis.input[dia.label] = 70"
   ]
  },
  {
   "cell_type": "code",
   "execution_count": 170,
   "id": "990c1058-59ff-48b1-932a-2627c1e00f22",
   "metadata": {},
   "outputs": [],
   "source": [
    "# Compute the fuzzy logic system\n",
    "result_analysis.compute()\n",
    "\n",
    "# Get the output result\n",
    "results = result_analysis.output[result.label]\n"
   ]
  },
  {
   "cell_type": "code",
   "execution_count": 171,
   "id": "4763408a-c43b-4da1-b825-f1e139171495",
   "metadata": {},
   "outputs": [
    {
     "name": "stdout",
     "output_type": "stream",
     "text": [
      "Probability of getting heart disease is: 48.4761\n"
     ]
    }
   ],
   "source": [
    "# Display the probability of getting heart disease rounded to 4 digits\n",
    "print(\"Probability of getting heart disease is: {:.4f}\".format(round(results, 4)))"
   ]
  },
  {
   "cell_type": "code",
   "execution_count": 172,
   "id": "f0dc569c-0ed9-4f9b-80f2-20560f90246a",
   "metadata": {},
   "outputs": [
    {
     "name": "stdout",
     "output_type": "stream",
     "text": [
      "RESULTS:\n",
      "Chances of getting heart disease are moderate\n"
     ]
    }
   ],
   "source": [
    "# Print results based on probability thresholds\n",
    "print(\"RESULTS:\")\n",
    "if results < 33.3333:\n",
    "    print(\"Low chances of getting heart disease\")\n",
    "elif 33.33333 < results < 66.6666:\n",
    "    print(\"Chances of getting heart disease are moderate\")\n",
    "elif results > 66.6666:\n",
    "    print(\"High chances of getting heart disease\")\n"
   ]
  },
  {
   "cell_type": "code",
   "execution_count": null,
   "id": "42d88993-0ee6-45b2-9438-d61421ccba28",
   "metadata": {},
   "outputs": [],
   "source": []
  }
 ],
 "metadata": {
  "kernelspec": {
   "display_name": "Python 3 (ipykernel)",
   "language": "python",
   "name": "python3"
  },
  "language_info": {
   "codemirror_mode": {
    "name": "ipython",
    "version": 3
   },
   "file_extension": ".py",
   "mimetype": "text/x-python",
   "name": "python",
   "nbconvert_exporter": "python",
   "pygments_lexer": "ipython3",
   "version": "3.11.3"
  }
 },
 "nbformat": 4,
 "nbformat_minor": 5
}
